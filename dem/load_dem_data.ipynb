{
 "cells": [
  {
   "cell_type": "code",
   "execution_count": 7,
   "metadata": {},
   "outputs": [],
   "source": [
    "from osgeo import gdal, ogr, osr\n",
    "import numpy as np\n",
    "from tqdm import tqdm\n",
    "import matplotlib.pyplot as plt\n",
    "import seaborn as sns"
   ]
  },
  {
   "cell_type": "code",
   "execution_count": 14,
   "metadata": {},
   "outputs": [
    {
     "data": {
      "text/html": [
       "<style>.container { width:100% !important; }</style>"
      ],
      "text/plain": [
       "<IPython.core.display.HTML object>"
      ]
     },
     "metadata": {},
     "output_type": "display_data"
    }
   ],
   "source": [
    "from IPython.display import display, HTML\n",
    "display(HTML('<style>.container { width:100% !important; }</style>'))\n",
    "plt.rc('figure', figsize=(32,24))\n",
    "sns.set_context(\"poster\")\n",
    "sns.set_style(\"whitegrid\")"
   ]
  },
  {
   "cell_type": "markdown",
   "metadata": {},
   "source": [
    "Data source:\n",
    "https://data.cityofnewyork.us/City-Government/1-foot-Digital-Elevation-Model-DEM-/dpc8-z3jc"
   ]
  },
  {
   "cell_type": "code",
   "execution_count": 16,
   "metadata": {},
   "outputs": [],
   "source": [
    "dataset = gdal.Open('data/DEM_LiDAR_1ft_2010_Improved_NYC.img', gdal.GA_ReadOnly)"
   ]
  },
  {
   "cell_type": "code",
   "execution_count": 17,
   "metadata": {},
   "outputs": [
    {
     "data": {
      "text/plain": [
       "1"
      ]
     },
     "execution_count": 17,
     "metadata": {},
     "output_type": "execute_result"
    }
   ],
   "source": [
    "dataset.RasterCount"
   ]
  },
  {
   "cell_type": "code",
   "execution_count": 18,
   "metadata": {},
   "outputs": [
    {
     "data": {
      "text/plain": [
       "'PROJCS[\"NAD83 / New York Long Island (ftUS)\",GEOGCS[\"NAD83\",DATUM[\"North_American_Datum_1983\",SPHEROID[\"GRS 1980\",6378137,298.257222101,AUTHORITY[\"EPSG\",\"7019\"]],AUTHORITY[\"EPSG\",\"6269\"]],PRIMEM[\"Greenwich\",0],UNIT[\"Degree\",0.0174532925199433]],PROJECTION[\"Lambert_Conformal_Conic_2SP\"],PARAMETER[\"latitude_of_origin\",40.1666666666667],PARAMETER[\"central_meridian\",-74],PARAMETER[\"standard_parallel_1\",40.6666666666667],PARAMETER[\"standard_parallel_2\",41.0333333333333],PARAMETER[\"false_easting\",984250],PARAMETER[\"false_northing\",0],UNIT[\"US survey foot\",0.304800609601219,AUTHORITY[\"EPSG\",\"9003\"]],AXIS[\"Easting\",EAST],AXIS[\"Northing\",NORTH]]'"
      ]
     },
     "execution_count": 18,
     "metadata": {},
     "output_type": "execute_result"
    }
   ],
   "source": [
    "dataset.GetProjectionRef()"
   ]
  },
  {
   "cell_type": "code",
   "execution_count": 19,
   "metadata": {},
   "outputs": [
    {
     "data": {
      "text/plain": [
       "(910719.3, 1.0, 0.0, 275160.675, 0.0, -1.0)"
      ]
     },
     "execution_count": 19,
     "metadata": {},
     "output_type": "execute_result"
    }
   ],
   "source": [
    "padfTransform = dataset.GetGeoTransform()\n",
    "padfTransform"
   ]
  },
  {
   "cell_type": "code",
   "execution_count": 24,
   "metadata": {},
   "outputs": [
    {
     "name": "stdout",
     "output_type": "stream",
     "text": [
      "Width:\t 158100 feet\n",
      "Height:\t 156100 feet\n"
     ]
    }
   ],
   "source": [
    "print('Width:\\t %i feet' % dataset.RasterXSize)\n",
    "print('Height:\\t %i feet' % dataset.RasterYSize)"
   ]
  },
  {
   "cell_type": "code",
   "execution_count": 25,
   "metadata": {},
   "outputs": [],
   "source": [
    "# Create arrays of X and Y state plabne coordinates using dataset geo transform\n",
    "Xp_arr = padfTransform[0] + np.arange(0, dataset.RasterXSize, 1) * padfTransform[1]\n",
    "Yp_arr = padfTransform[3] + np.arange(0, dataset.RasterYSize, 1) * padfTransform[5]"
   ]
  },
  {
   "cell_type": "code",
   "execution_count": null,
   "metadata": {},
   "outputs": [],
   "source": [
    "# Spatial Reference System for state plane to lat/lon coordinate transform\n",
    "inputEPSG = 2263\n",
    "outputEPSG = 4140\n",
    "\n",
    "point = ogr.Geometry(ogr.wkbPoint)\n",
    "\n",
    "inSpatialRef = osr.SpatialReference()\n",
    "inSpatialRef.ImportFromEPSG(inputEPSG)\n",
    "\n",
    "outSpatialRef = osr.SpatialReference()\n",
    "outSpatialRef.ImportFromEPSG(outputEPSG)\n",
    "\n",
    "coordTransform = osr.CoordinateTransformation(inSpatialRef, outSpatialRef)"
   ]
  },
  {
   "cell_type": "code",
   "execution_count": 28,
   "metadata": {},
   "outputs": [],
   "source": [
    "# Create arrays for lat and lon\n",
    "lat_arr = []\n",
    "lon_arr = []\n",
    "for idx, (Xp, Yp) in enumerate(zip(Xp_arr, Yp_arr)):\n",
    "    point.AddPoint(Xp, Yp)\n",
    "    point.Transform(coordTransform)\n",
    "    lat = point.GetX()\n",
    "    lon = point.GetY()\n",
    "    lat_arr.append(lat)\n",
    "    lon_arr.append(lon)"
   ]
  }
 ],
 "metadata": {
  "kernelspec": {
   "display_name": "inundation-model",
   "language": "python",
   "name": "inundation-model"
  },
  "language_info": {
   "codemirror_mode": {
    "name": "ipython",
    "version": 3
   },
   "file_extension": ".py",
   "mimetype": "text/x-python",
   "name": "python",
   "nbconvert_exporter": "python",
   "pygments_lexer": "ipython3",
   "version": "3.9.13"
  }
 },
 "nbformat": 4,
 "nbformat_minor": 2
}
